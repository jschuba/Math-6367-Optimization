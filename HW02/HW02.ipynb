{
 "cells": [
  {
   "cell_type": "markdown",
   "metadata": {},
   "source": [
    "\n",
    "\n",
    "\n",
    "## Math 6367 Optimization 2 <br> Practical Homework 02 <br> Prof. Dr. Ronald H.W. Hoppe  \n",
    "### 29 April 2019 <br> Jonathan Schuba"
   ]
  },
  {
   "cell_type": "markdown",
   "metadata": {},
   "source": [
    "### Assignment:\n",
    "\n",
    "A student is taking three courses -- Algebra, Geometry, and Optimization. Each with a respective probability of failure.  The student has only four hours to study, and wants to minimize the probability of failing all three courses.  \n",
    "\n",
    "Note: this is a shortest path problem, in which the final path length is the product (rather than the sum) of the individual sub-paths. "
   ]
  },
  {
   "cell_type": "code",
   "execution_count": 1,
   "metadata": {},
   "outputs": [
    {
     "name": "stdout",
     "output_type": "stream",
     "text": [
      "Note: The courses are indexed:\n",
      "0: Algebra\n",
      "1: Geometry\n",
      "2: Optimization\n",
      "\n",
      "The course-failure probability matrix is:\n",
      "                 0    1     2     3     4\n",
      "Algebra       0.80  0.7  0.65  0.62  0.60\n",
      "Geometry      0.75  0.7  0.67  0.65  0.62\n",
      "Optimization  0.90  0.7  0.60  0.55  0.50\n",
      "\n"
     ]
    }
   ],
   "source": [
    "import numpy as np\n",
    "import pandas as pd\n",
    "\n",
    "courses = [\"Algebra\", \"Geometry\", \"Optimization\"]\n",
    "print(\"Note: The courses are indexed:\")\n",
    "for i, course in enumerate(courses):\n",
    "    print(f\"{i}: {course}\")\n",
    "print() \n",
    "\n",
    "failure_prob = [[0.8, 0.75, 0.90],\n",
    "                [0.70, 0.70, 0.70],\n",
    "                [0.65, 0.67, 0.60],\n",
    "                [0.62, 0.65, 0.55],\n",
    "                [0.60, 0.62, 0.50]]\n",
    "# Transpose the failure matrix, so that we can index it by [course][hours]\n",
    "failure_prob = np.transpose(failure_prob)\n",
    "\n",
    "\n",
    "def print_failure_matrix(failure_matrix, course_list):\n",
    "    # Function to pretty-print the failure matrix \n",
    "    df = pd.DataFrame(failure_matrix)\n",
    "    df.columns = [i for i in range(len(failure_matrix[-1]))]\n",
    "    df.index = course_list\n",
    "    print(\"The course-failure probability matrix is:\")\n",
    "    print(df)\n",
    "    print()\n",
    "    \n",
    "print_failure_matrix(failure_prob, courses)\n"
   ]
  },
  {
   "cell_type": "markdown",
   "metadata": {},
   "source": [
    "In tbe next cell block, we will define a function to perform the Backward Dynamic Programming Algorithm.  The algorithm is defined as:\n",
    "$$ \n",
    "\\begin{aligned}\n",
    "f_3(x) &= p_3(x)\\\\\n",
    "f_k(x) &= min_{t\\le x}\\{p_k(t)f_{k+1}(x-t)\\}\n",
    "\\end{aligned}\n",
    "$$\n",
    "\n",
    "This function stores and returns all of the values of $f_k(x)$ as well as the argmin, $t$, which produced that value.  The argmin list will be used later in the forward algorithm to determine the path which produces the final minimizing value.  In this problem, it is convenient that the indicies of the probability matrix are the same as the values (ie: p[0][1] = 0.7 corresponds to studying algebra for one hour)."
   ]
  },
  {
   "cell_type": "code",
   "execution_count": 2,
   "metadata": {},
   "outputs": [
    {
     "name": "stdout",
     "output_type": "stream",
     "text": [
      "f_2[0] = 0.9\n",
      "f_2[1] = 0.7\n",
      "f_2[2] = 0.6\n",
      "f_2[3] = 0.55\n",
      "f_2[4] = 0.5\n",
      "f_1[0] = min(0.675) = 0.675  \n",
      "\t argmin = 0\n",
      "f_1[1] = min([0.525]) = 0.525  \n",
      "\t argmin = 0\n",
      "f_1[2] = min([0.45 0.49]) = 0.45  \n",
      "\t argmin = 0\n",
      "f_1[3] = min([0.4125 0.42   0.469 ]) = 0.4125  \n",
      "\t argmin = 0\n",
      "f_1[4] = min([0.375 0.385 0.402 0.455]) = 0.375  \n",
      "\t argmin = 0\n",
      "f_0[0] = min(0.54) = 0.54  \n",
      "\t argmin = 0\n",
      "f_0[1] = min([0.42]) = 0.42  \n",
      "\t argmin = 0\n",
      "f_0[2] = min([0.36   0.3675]) = 0.36  \n",
      "\t argmin = 0\n",
      "f_0[3] = min([0.33   0.315  0.3412]) = 0.315  \n",
      "\t argmin = 1\n",
      "f_0[4] = min([0.3    0.2888 0.2925 0.3255]) = 0.2888  \n",
      "\t argmin = 1\n"
     ]
    }
   ],
   "source": [
    "def backward_dp(failure_prob):\n",
    "    f = []       # store all values of f_k(x)\n",
    "    f_arg = []   # store the argmin of t which produced the final value in f_k(x)\n",
    "    for k in range(len(failure_prob)-1, -1, -1):\n",
    "        fk = []\n",
    "        fk_arg = []\n",
    "        for i in range(len(failure_prob[0])):\n",
    "            if k == len(failure_prob)-1:\n",
    "                fk.append(failure_prob[k][i])\n",
    "                fk_arg.append(i)\n",
    "                print(f\"f_{k}[{i}] = {failure_prob[k][i]}\")\n",
    "            else:\n",
    "                if i == 0:\n",
    "                    t = 0\n",
    "                    temp = failure_prob[k][t]*f[-1][i-t]\n",
    "                    fk.append(temp)\n",
    "                    fk_arg.append(0)\n",
    "                else:\n",
    "                    temp = []\n",
    "                    for t in range(i):\n",
    "                        temp.append(failure_prob[k][t]*f[-1][i-t])\n",
    "                    fk.append(min(temp))\n",
    "                    fk_arg.append(np.argmin(temp))\n",
    "                print(f\"f_{k}[{i}] = min({np.round(temp, 4)}) = {np.round(fk[-1],4)}  \")\n",
    "                print(f\"\\t argmin = {fk_arg[-1]}\")\n",
    "                \n",
    "        f.append(fk)\n",
    "        f_arg.append(fk_arg)\n",
    "    return f, f_arg\n",
    "\n",
    "f, f_arg = backward_dp(failure_prob)"
   ]
  },
  {
   "cell_type": "markdown",
   "metadata": {},
   "source": [
    "The forward strategy walks through the argmin list to see how many hours to spend on each course.  It then returns the optimal strategy. "
   ]
  },
  {
   "cell_type": "code",
   "execution_count": 4,
   "metadata": {},
   "outputs": [
    {
     "name": "stdout",
     "output_type": "stream",
     "text": [
      "The probability of failing all courses is: 0.28875\n",
      "The optimal strategy is to spend:\n",
      "1 hours(s) on Algebra\n",
      "0 hours(s) on Geometry\n",
      "3 hours(s) on Optimization\n"
     ]
    }
   ],
   "source": [
    "def forward_strategy(f, f_arg):\n",
    "    prob_of_failing_all_courses = f[-1][-1]\n",
    "    \n",
    "    strategy = [0 for _ in f]\n",
    "    \n",
    "    hours_remaining = len(f[0])-1\n",
    "    \n",
    "    for k in range(len(f)-1, -1, -1):\n",
    "        hours_to_spend = f_arg[k][hours_remaining]\n",
    "        strategy[k] = hours_to_spend\n",
    "        hours_remaining -= hours_to_spend\n",
    "    \n",
    "    strategy.reverse()\n",
    "    return prob_of_failing_all_courses, strategy\n",
    "\n",
    "prob_of_failing_all_courses, strategy = forward_strategy(f, f_arg)\n",
    "\n",
    "print(f\"The probability of failing all courses is: {prob_of_failing_all_courses}\")\n",
    "print(\"The optimal strategy is to spend:\")\n",
    "for course, hours in zip(courses, strategy):\n",
    "    print(f\"{hours} hours(s) on {course}\")"
   ]
  },
  {
   "cell_type": "code",
   "execution_count": null,
   "metadata": {},
   "outputs": [],
   "source": []
  },
  {
   "cell_type": "code",
   "execution_count": null,
   "metadata": {},
   "outputs": [],
   "source": []
  }
 ],
 "metadata": {
  "kernelspec": {
   "display_name": "Python 3",
   "language": "python",
   "name": "python3"
  },
  "language_info": {
   "codemirror_mode": {
    "name": "ipython",
    "version": 3
   },
   "file_extension": ".py",
   "mimetype": "text/x-python",
   "name": "python",
   "nbconvert_exporter": "python",
   "pygments_lexer": "ipython3",
   "version": "3.6.6"
  }
 },
 "nbformat": 4,
 "nbformat_minor": 2
}
